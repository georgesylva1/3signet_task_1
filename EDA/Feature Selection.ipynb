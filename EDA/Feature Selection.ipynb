{
 "cells": [
  {
   "cell_type": "code",
   "execution_count": 1,
   "id": "f04b31ae-0791-4da0-a735-5b24b83d9bf0",
   "metadata": {},
   "outputs": [],
   "source": [
    "import pandas as pd\n",
    "import numpy as np\n",
    "import joblib\n",
    "import matplotlib.pyplot as plt\n",
    "import seaborn as sns\n",
    "from sklearn.pipeline import Pipeline\n",
    "from sklearn.feature_selection import SelectFromModel\n",
    "from sklearn.feature_selection import RFE\n",
    "from sklearn.compose import ColumnTransformer\n",
    "from sklearn.preprocessing import StandardScaler, LabelEncoder\n",
    "from sklearn.metrics import accuracy_score, confusion_matrix, classification_report\n",
    "from xgboost import XGBClassifier\n",
    "from sklearn.ensemble import RandomForestClassifier\n",
    "from sklearn.model_selection import RandomizedSearchCV, train_test_split, cross_val_score, StratifiedKFold\n",
    "from sklearn.impute import KNNImputer\n",
    "from sklearn.model_selection import learning_curve"
   ]
  },
  {
   "cell_type": "code",
   "execution_count": null,
   "id": "1f254dd1-180a-4914-b543-5e79d2f3b424",
   "metadata": {},
   "outputs": [],
   "source": []
  },
  {
   "cell_type": "markdown",
   "id": "a8bcf1b3-b003-48d4-af51-a229c8c2729d",
   "metadata": {},
   "source": [
    "### Load saved dataframe"
   ]
  },
  {
   "cell_type": "code",
   "execution_count": 2,
   "id": "4b69228e-4d31-49ae-9d6b-40e5b64bb592",
   "metadata": {},
   "outputs": [],
   "source": [
    "df = pd.read_pickle('data.pkl')"
   ]
  },
  {
   "cell_type": "code",
   "execution_count": 3,
   "id": "31a3a156-c777-41fa-bb17-4313f7ae813a",
   "metadata": {},
   "outputs": [
    {
     "name": "stdout",
     "output_type": "stream",
     "text": [
      "<class 'pandas.core.frame.DataFrame'>\n",
      "RangeIndex: 4424 entries, 0 to 4423\n",
      "Data columns (total 37 columns):\n",
      " #   Column                                          Non-Null Count  Dtype   \n",
      "---  ------                                          --------------  -----   \n",
      " 0   Marital status                                  4424 non-null   category\n",
      " 1   Application mode                                4424 non-null   category\n",
      " 2   Application order                               4424 non-null   category\n",
      " 3   Course                                          4424 non-null   category\n",
      " 4   Daytime/evening attendance                      4424 non-null   category\n",
      " 5   Previous qualification                          4424 non-null   category\n",
      " 6   Previous qualification (grade)                  4424 non-null   float64 \n",
      " 7   Nationality                                     4424 non-null   category\n",
      " 8   Mother_qualification                            4424 non-null   category\n",
      " 9   Father_qualification                            4424 non-null   category\n",
      " 10  Mother_occupation                               4424 non-null   category\n",
      " 11  Father_occupation                               4424 non-null   category\n",
      " 12  Admission grade                                 4424 non-null   float64 \n",
      " 13  Displaced                                       4424 non-null   category\n",
      " 14  Educational special needs                       4424 non-null   category\n",
      " 15  Debtor                                          4424 non-null   category\n",
      " 16  Tuition fees up to date                         4424 non-null   category\n",
      " 17  Gender                                          4424 non-null   category\n",
      " 18  Scholarship holder                              4424 non-null   category\n",
      " 19  Age at enrollment                               4424 non-null   int64   \n",
      " 20  International                                   4424 non-null   category\n",
      " 21  Curricular units 1st sem (credited)             4424 non-null   int64   \n",
      " 22  Curricular units 1st sem (enrolled)             4424 non-null   int64   \n",
      " 23  Curricular units 1st sem (evaluations)          4424 non-null   int64   \n",
      " 24  Curricular units 1st sem (approved)             4424 non-null   int64   \n",
      " 25  Curricular units 1st sem (grade)                4424 non-null   float64 \n",
      " 26  Curricular units 1st sem (without evaluations)  4424 non-null   int64   \n",
      " 27  Curricular units 2nd sem (credited)             4424 non-null   int64   \n",
      " 28  Curricular units 2nd sem (enrolled)             4424 non-null   int64   \n",
      " 29  Curricular units 2nd sem (evaluations)          4424 non-null   int64   \n",
      " 30  Curricular units 2nd sem (approved)             4424 non-null   int64   \n",
      " 31  Curricular units 2nd sem (grade)                4424 non-null   float64 \n",
      " 32  Curricular units 2nd sem (without evaluations)  4424 non-null   int64   \n",
      " 33  Unemployment rate                               4424 non-null   float64 \n",
      " 34  Inflation rate                                  4424 non-null   float64 \n",
      " 35  GDP                                             4424 non-null   float64 \n",
      " 36  Target                                          4424 non-null   category\n",
      "dtypes: category(19), float64(7), int64(11)\n",
      "memory usage: 706.3 KB\n"
     ]
    }
   ],
   "source": [
    "df.info()"
   ]
  },
  {
   "cell_type": "code",
   "execution_count": 4,
   "id": "fdf4e252-118e-4a19-adb7-31570106d129",
   "metadata": {},
   "outputs": [
    {
     "data": {
      "text/html": [
       "<div>\n",
       "<style scoped>\n",
       "    .dataframe tbody tr th:only-of-type {\n",
       "        vertical-align: middle;\n",
       "    }\n",
       "\n",
       "    .dataframe tbody tr th {\n",
       "        vertical-align: top;\n",
       "    }\n",
       "\n",
       "    .dataframe thead th {\n",
       "        text-align: right;\n",
       "    }\n",
       "</style>\n",
       "<table border=\"1\" class=\"dataframe\">\n",
       "  <thead>\n",
       "    <tr style=\"text-align: right;\">\n",
       "      <th></th>\n",
       "      <th>Marital status</th>\n",
       "      <th>Application mode</th>\n",
       "      <th>Application order</th>\n",
       "      <th>Course</th>\n",
       "      <th>Daytime/evening attendance</th>\n",
       "      <th>Previous qualification</th>\n",
       "      <th>Previous qualification (grade)</th>\n",
       "      <th>Nationality</th>\n",
       "      <th>Mother_qualification</th>\n",
       "      <th>Father_qualification</th>\n",
       "      <th>...</th>\n",
       "      <th>Curricular units 2nd sem (credited)</th>\n",
       "      <th>Curricular units 2nd sem (enrolled)</th>\n",
       "      <th>Curricular units 2nd sem (evaluations)</th>\n",
       "      <th>Curricular units 2nd sem (approved)</th>\n",
       "      <th>Curricular units 2nd sem (grade)</th>\n",
       "      <th>Curricular units 2nd sem (without evaluations)</th>\n",
       "      <th>Unemployment rate</th>\n",
       "      <th>Inflation rate</th>\n",
       "      <th>GDP</th>\n",
       "      <th>Target</th>\n",
       "    </tr>\n",
       "  </thead>\n",
       "  <tbody>\n",
       "    <tr>\n",
       "      <th>0</th>\n",
       "      <td>1</td>\n",
       "      <td>17</td>\n",
       "      <td>5</td>\n",
       "      <td>171</td>\n",
       "      <td>1</td>\n",
       "      <td>1</td>\n",
       "      <td>122.0</td>\n",
       "      <td>1</td>\n",
       "      <td>19</td>\n",
       "      <td>12</td>\n",
       "      <td>...</td>\n",
       "      <td>0</td>\n",
       "      <td>0</td>\n",
       "      <td>0</td>\n",
       "      <td>0</td>\n",
       "      <td>0.000000</td>\n",
       "      <td>0</td>\n",
       "      <td>10.8</td>\n",
       "      <td>1.4</td>\n",
       "      <td>1.74</td>\n",
       "      <td>Dropout</td>\n",
       "    </tr>\n",
       "    <tr>\n",
       "      <th>1</th>\n",
       "      <td>1</td>\n",
       "      <td>15</td>\n",
       "      <td>1</td>\n",
       "      <td>9254</td>\n",
       "      <td>1</td>\n",
       "      <td>1</td>\n",
       "      <td>160.0</td>\n",
       "      <td>1</td>\n",
       "      <td>1</td>\n",
       "      <td>3</td>\n",
       "      <td>...</td>\n",
       "      <td>0</td>\n",
       "      <td>6</td>\n",
       "      <td>6</td>\n",
       "      <td>6</td>\n",
       "      <td>13.666667</td>\n",
       "      <td>0</td>\n",
       "      <td>13.9</td>\n",
       "      <td>-0.3</td>\n",
       "      <td>0.79</td>\n",
       "      <td>Graduate</td>\n",
       "    </tr>\n",
       "    <tr>\n",
       "      <th>2</th>\n",
       "      <td>1</td>\n",
       "      <td>1</td>\n",
       "      <td>5</td>\n",
       "      <td>9070</td>\n",
       "      <td>1</td>\n",
       "      <td>1</td>\n",
       "      <td>122.0</td>\n",
       "      <td>1</td>\n",
       "      <td>37</td>\n",
       "      <td>37</td>\n",
       "      <td>...</td>\n",
       "      <td>0</td>\n",
       "      <td>6</td>\n",
       "      <td>0</td>\n",
       "      <td>0</td>\n",
       "      <td>0.000000</td>\n",
       "      <td>0</td>\n",
       "      <td>10.8</td>\n",
       "      <td>1.4</td>\n",
       "      <td>1.74</td>\n",
       "      <td>Dropout</td>\n",
       "    </tr>\n",
       "    <tr>\n",
       "      <th>3</th>\n",
       "      <td>1</td>\n",
       "      <td>17</td>\n",
       "      <td>2</td>\n",
       "      <td>9773</td>\n",
       "      <td>1</td>\n",
       "      <td>1</td>\n",
       "      <td>122.0</td>\n",
       "      <td>1</td>\n",
       "      <td>38</td>\n",
       "      <td>37</td>\n",
       "      <td>...</td>\n",
       "      <td>0</td>\n",
       "      <td>6</td>\n",
       "      <td>10</td>\n",
       "      <td>5</td>\n",
       "      <td>12.400000</td>\n",
       "      <td>0</td>\n",
       "      <td>9.4</td>\n",
       "      <td>-0.8</td>\n",
       "      <td>-3.12</td>\n",
       "      <td>Graduate</td>\n",
       "    </tr>\n",
       "    <tr>\n",
       "      <th>4</th>\n",
       "      <td>2</td>\n",
       "      <td>39</td>\n",
       "      <td>1</td>\n",
       "      <td>8014</td>\n",
       "      <td>0</td>\n",
       "      <td>1</td>\n",
       "      <td>100.0</td>\n",
       "      <td>1</td>\n",
       "      <td>37</td>\n",
       "      <td>38</td>\n",
       "      <td>...</td>\n",
       "      <td>0</td>\n",
       "      <td>6</td>\n",
       "      <td>6</td>\n",
       "      <td>6</td>\n",
       "      <td>13.000000</td>\n",
       "      <td>0</td>\n",
       "      <td>13.9</td>\n",
       "      <td>-0.3</td>\n",
       "      <td>0.79</td>\n",
       "      <td>Graduate</td>\n",
       "    </tr>\n",
       "  </tbody>\n",
       "</table>\n",
       "<p>5 rows × 37 columns</p>\n",
       "</div>"
      ],
      "text/plain": [
       "  Marital status Application mode Application order Course  \\\n",
       "0              1               17                 5    171   \n",
       "1              1               15                 1   9254   \n",
       "2              1                1                 5   9070   \n",
       "3              1               17                 2   9773   \n",
       "4              2               39                 1   8014   \n",
       "\n",
       "  Daytime/evening attendance Previous qualification  \\\n",
       "0                          1                      1   \n",
       "1                          1                      1   \n",
       "2                          1                      1   \n",
       "3                          1                      1   \n",
       "4                          0                      1   \n",
       "\n",
       "   Previous qualification (grade) Nationality Mother_qualification  \\\n",
       "0                           122.0           1                   19   \n",
       "1                           160.0           1                    1   \n",
       "2                           122.0           1                   37   \n",
       "3                           122.0           1                   38   \n",
       "4                           100.0           1                   37   \n",
       "\n",
       "  Father_qualification  ... Curricular units 2nd sem (credited)  \\\n",
       "0                   12  ...                                   0   \n",
       "1                    3  ...                                   0   \n",
       "2                   37  ...                                   0   \n",
       "3                   37  ...                                   0   \n",
       "4                   38  ...                                   0   \n",
       "\n",
       "  Curricular units 2nd sem (enrolled)  Curricular units 2nd sem (evaluations)  \\\n",
       "0                                   0                                       0   \n",
       "1                                   6                                       6   \n",
       "2                                   6                                       0   \n",
       "3                                   6                                      10   \n",
       "4                                   6                                       6   \n",
       "\n",
       "  Curricular units 2nd sem (approved) Curricular units 2nd sem (grade)  \\\n",
       "0                                   0                         0.000000   \n",
       "1                                   6                        13.666667   \n",
       "2                                   0                         0.000000   \n",
       "3                                   5                        12.400000   \n",
       "4                                   6                        13.000000   \n",
       "\n",
       "  Curricular units 2nd sem (without evaluations) Unemployment rate  \\\n",
       "0                                              0              10.8   \n",
       "1                                              0              13.9   \n",
       "2                                              0              10.8   \n",
       "3                                              0               9.4   \n",
       "4                                              0              13.9   \n",
       "\n",
       "  Inflation rate   GDP    Target  \n",
       "0            1.4  1.74   Dropout  \n",
       "1           -0.3  0.79  Graduate  \n",
       "2            1.4  1.74   Dropout  \n",
       "3           -0.8 -3.12  Graduate  \n",
       "4           -0.3  0.79  Graduate  \n",
       "\n",
       "[5 rows x 37 columns]"
      ]
     },
     "execution_count": 4,
     "metadata": {},
     "output_type": "execute_result"
    }
   ],
   "source": [
    "df.head()"
   ]
  },
  {
   "cell_type": "code",
   "execution_count": 5,
   "id": "b211afc3-00cd-445a-b9b3-435713475bae",
   "metadata": {},
   "outputs": [],
   "source": [
    "# Step 1: Prepare the Data\n",
    "X = df.drop(columns=['Target'])  # Features\n",
    "y = df['Target']  # Target variable"
   ]
  },
  {
   "cell_type": "code",
   "execution_count": 6,
   "id": "99d45a17-da5d-4dd0-b8c5-22f1521f2802",
   "metadata": {},
   "outputs": [
    {
     "name": "stdout",
     "output_type": "stream",
     "text": [
      "Encoded Labels: [0 2 0 ... 0 2 2]\n",
      "Classes: ['Dropout' 'Enrolled' 'Graduate']\n"
     ]
    }
   ],
   "source": [
    "# Step 2: Convert Target Variable to Numeric Labels\n",
    "label_encoder = LabelEncoder()\n",
    "y_encoded = label_encoder.fit_transform(y)\n",
    "\n",
    "# Display the encoded labels and classes\n",
    "print(\"Encoded Labels:\", y_encoded)\n",
    "print(\"Classes:\", label_encoder.classes_)"
   ]
  },
  {
   "cell_type": "code",
   "execution_count": 7,
   "id": "52cdf6a8-38d6-43c0-947a-b3ef61656bcf",
   "metadata": {},
   "outputs": [
    {
     "data": {
      "text/plain": [
       "array([0, 2, 0, ..., 0, 2, 2])"
      ]
     },
     "execution_count": 7,
     "metadata": {},
     "output_type": "execute_result"
    }
   ],
   "source": [
    "y_encoded"
   ]
  },
  {
   "cell_type": "code",
   "execution_count": 8,
   "id": "b5e8e25d-a153-42c0-9cac-60fc41af1146",
   "metadata": {},
   "outputs": [],
   "source": [
    "# Step 3: Train-Test Split\n",
    "X_train, X_test, y_train, y_test = train_test_split(X, y_encoded, test_size=0.2, random_state=42, stratify=y_encoded)\n",
    "\n",
    "# Step 4: Identify Numerical Columns\n",
    "numerical_cols = X.select_dtypes(include=['int64', 'float64']).columns\n",
    "\n",
    "# Identify categorical columns\n",
    "categorical_cols = X.select_dtypes(include=['category']).columns.tolist()\n"
   ]
  },
  {
   "cell_type": "code",
   "execution_count": 9,
   "id": "4147b895-b67a-457e-9a61-8733c501472c",
   "metadata": {},
   "outputs": [],
   "source": [
    "# Step 5: Create a Column Transformer for Preprocessing\n",
    "preprocessor = ColumnTransformer(\n",
    "    transformers=[\n",
    "        ('num', Pipeline(steps=[\n",
    "            ('imputer', KNNImputer(n_neighbors=5)),\n",
    "            ('scaler', StandardScaler())\n",
    "        ]), numerical_cols),\n",
    "        ('cat', 'passthrough', categorical_cols)\n",
    "    ]\n",
    ")\n",
    "\n",
    "# Step 6: Define Hyperparameter Search Spaces\n",
    "rf_param_dist = {\n",
    "    'model__n_estimators': [100, 200, 300],\n",
    "    'model__max_depth': [None, 5, 10, 15],\n",
    "    'model__min_samples_split': [2, 5, 10],\n",
    "    'model__min_samples_leaf': [1, 2, 4],\n",
    "    'model__bootstrap': [True, False]\n",
    "}\n",
    "\n",
    "xgb_param_dist = {\n",
    "    'model__n_estimators': [100, 200, 300],\n",
    "    'model__max_depth': [1, 2, 3],\n",
    "    'model__learning_rate': [0.02, 0.2, 0.4],\n",
    "    'model__subsample': [0.7, 0.8, 0.9],\n",
    "    'model__colsample_bytree': [0.7, 0.8, 1.0]\n",
    "}"
   ]
  },
  {
   "cell_type": "code",
   "execution_count": 10,
   "id": "e6f05470-89ca-43d5-a567-47103d207b5e",
   "metadata": {},
   "outputs": [],
   "source": [
    "# Step 7: Create Pipelines\n",
    "rf_pipeline = Pipeline(steps=[\n",
    "    ('preprocessor', preprocessor),\n",
    "    ('model', RandomForestClassifier(random_state=42))\n",
    "])\n",
    "\n",
    "xgb_pipeline = Pipeline(steps=[\n",
    "    ('preprocessor', preprocessor),\n",
    "    ('model', XGBClassifier(eval_metric='mlogloss', random_state=42))\n",
    "])"
   ]
  },
  {
   "cell_type": "code",
   "execution_count": 11,
   "id": "00519f97-7870-4fda-9530-e69e6e69a79e",
   "metadata": {},
   "outputs": [],
   "source": [
    "# # Perform hyperparameter tuning with RandomizedSearchCV to the RandomForest pipeline\n",
    "rf_random_search = RandomizedSearchCV(\n",
    "    estimator=rf_pipeline,\n",
    "    param_distributions=rf_param_dist,\n",
    "    cv=StratifiedKFold(n_splits=5, shuffle=True, random_state=42),\n",
    "    scoring='accuracy',\n",
    "    n_iter=10,\n",
    "    n_jobs=-1,\n",
    "    verbose=1,\n",
    "    random_state=42\n",
    ")\n",
    "\n",
    "# # Perform hyperparameter tuning with RandomizedSearchCV to the XGBoost pipeline\n",
    "xgb_random_search = RandomizedSearchCV(\n",
    "    estimator=xgb_pipeline,\n",
    "    param_distributions=xgb_param_dist,\n",
    "    cv=StratifiedKFold(n_splits=5, shuffle=True, random_state=42),\n",
    "    scoring='accuracy',\n",
    "    n_iter=10,\n",
    "    n_jobs=-1,\n",
    "    verbose=1,\n",
    "    random_state=42\n",
    ")\n"
   ]
  },
  {
   "cell_type": "code",
   "execution_count": 12,
   "id": "e62c9c33-3905-4deb-af42-80af4a746fc9",
   "metadata": {},
   "outputs": [
    {
     "name": "stdout",
     "output_type": "stream",
     "text": [
      "<class 'pandas.core.frame.DataFrame'>\n",
      "RangeIndex: 4424 entries, 0 to 4423\n",
      "Data columns (total 36 columns):\n",
      " #   Column                                          Non-Null Count  Dtype   \n",
      "---  ------                                          --------------  -----   \n",
      " 0   Marital status                                  4424 non-null   category\n",
      " 1   Application mode                                4424 non-null   category\n",
      " 2   Application order                               4424 non-null   category\n",
      " 3   Course                                          4424 non-null   category\n",
      " 4   Daytime/evening attendance                      4424 non-null   category\n",
      " 5   Previous qualification                          4424 non-null   category\n",
      " 6   Previous qualification (grade)                  4424 non-null   float64 \n",
      " 7   Nationality                                     4424 non-null   category\n",
      " 8   Mother_qualification                            4424 non-null   category\n",
      " 9   Father_qualification                            4424 non-null   category\n",
      " 10  Mother_occupation                               4424 non-null   category\n",
      " 11  Father_occupation                               4424 non-null   category\n",
      " 12  Admission grade                                 4424 non-null   float64 \n",
      " 13  Displaced                                       4424 non-null   category\n",
      " 14  Educational special needs                       4424 non-null   category\n",
      " 15  Debtor                                          4424 non-null   category\n",
      " 16  Tuition fees up to date                         4424 non-null   category\n",
      " 17  Gender                                          4424 non-null   category\n",
      " 18  Scholarship holder                              4424 non-null   category\n",
      " 19  Age at enrollment                               4424 non-null   int64   \n",
      " 20  International                                   4424 non-null   category\n",
      " 21  Curricular units 1st sem (credited)             4424 non-null   int64   \n",
      " 22  Curricular units 1st sem (enrolled)             4424 non-null   int64   \n",
      " 23  Curricular units 1st sem (evaluations)          4424 non-null   int64   \n",
      " 24  Curricular units 1st sem (approved)             4424 non-null   int64   \n",
      " 25  Curricular units 1st sem (grade)                4424 non-null   float64 \n",
      " 26  Curricular units 1st sem (without evaluations)  4424 non-null   int64   \n",
      " 27  Curricular units 2nd sem (credited)             4424 non-null   int64   \n",
      " 28  Curricular units 2nd sem (enrolled)             4424 non-null   int64   \n",
      " 29  Curricular units 2nd sem (evaluations)          4424 non-null   int64   \n",
      " 30  Curricular units 2nd sem (approved)             4424 non-null   int64   \n",
      " 31  Curricular units 2nd sem (grade)                4424 non-null   float64 \n",
      " 32  Curricular units 2nd sem (without evaluations)  4424 non-null   int64   \n",
      " 33  Unemployment rate                               4424 non-null   float64 \n",
      " 34  Inflation rate                                  4424 non-null   float64 \n",
      " 35  GDP                                             4424 non-null   float64 \n",
      "dtypes: category(18), float64(7), int64(11)\n",
      "memory usage: 701.9 KB\n"
     ]
    }
   ],
   "source": [
    "X.info()"
   ]
  },
  {
   "cell_type": "code",
   "execution_count": 13,
   "id": "0ff87720-767e-410e-bb88-5df51eb3c381",
   "metadata": {},
   "outputs": [],
   "source": [
    "# Using models without Hyperparameter tuning\n",
    "rf_pipeline.fit(X_train, y_train)\n",
    "\n",
    "# Predictions on the Test Set\n",
    "rf_y_pred1 = rf_pipeline.predict(X_test)"
   ]
  },
  {
   "cell_type": "code",
   "execution_count": 14,
   "id": "10efcc11-cae3-44a1-a172-797f1a48fc4f",
   "metadata": {},
   "outputs": [
    {
     "name": "stdout",
     "output_type": "stream",
     "text": [
      "Random Forest Test Accuracy: 0.7661016949152543\n",
      "              precision    recall  f1-score   support\n",
      "\n",
      "           0       0.81      0.76      0.78       284\n",
      "           1       0.53      0.33      0.40       159\n",
      "           2       0.79      0.93      0.86       442\n",
      "\n",
      "    accuracy                           0.77       885\n",
      "   macro avg       0.71      0.67      0.68       885\n",
      "weighted avg       0.75      0.77      0.75       885\n",
      "\n"
     ]
    }
   ],
   "source": [
    "print(\"Random Forest Test Accuracy:\", accuracy_score(y_test, rf_y_pred1))\n",
    "print(classification_report(y_test, rf_y_pred1))"
   ]
  },
  {
   "cell_type": "code",
   "execution_count": 15,
   "id": "3c908f11-4134-43ac-8ce1-f79131640a8a",
   "metadata": {},
   "outputs": [
    {
     "data": {
      "image/png": "[encoded data removed]",
      "text/plain": [
       "<Figure size 1000x600 with 1 Axes>"
      ]
     },
     "metadata": {},
     "output_type": "display_data"
    }
   ],
   "source": [
    "# Create learning curves for Random Forest\n",
    "train_sizes, train_scores, test_scores = learning_curve(rf_pipeline, X_train, y_train, cv=5, scoring='accuracy')\n",
    "train_scores_mean = np.mean(train_scores, axis=1)\n",
    "test_scores_mean = np.mean(test_scores, axis=1)\n",
    "\n",
    "# Plot learning curves\n",
    "plt.figure(figsize=(10, 6))\n",
    "plt.plot(train_sizes, train_scores_mean, label='Training score')\n",
    "plt.plot(train_sizes, test_scores_mean, label='Validation score')\n",
    "plt.title('Learning Curves (Random Forest)')\n",
    "plt.xlabel('Training examples')\n",
    "plt.ylabel('Accuracy')\n",
    "plt.legend()\n",
    "plt.show()"
   ]
  },
  {
   "cell_type": "markdown",
   "id": "8657e32c-8476-4c9c-b7f0-a7263e9f04da",
   "metadata": {},
   "source": [
    "Random Forest model shows perfect accuracy on the training data, its performance on the validation set indicates potential overfitting and little generalization."
   ]
  },
  {
   "cell_type": "code",
   "execution_count": 16,
   "id": "c0d4553a-2686-4ac1-9832-c175862d9442",
   "metadata": {},
   "outputs": [
    {
     "name": "stdout",
     "output_type": "stream",
     "text": [
      "Selected Features: Index(['Application mode', 'Application order', 'Course',\n",
      "       'Previous qualification (grade)', 'Mother_qualification',\n",
      "       'Father_qualification', 'Mother_occupation', 'Father_occupation',\n",
      "       'Admission grade', 'Debtor', 'Tuition fees up to date', 'Gender',\n",
      "       'Scholarship holder', 'Age at enrollment',\n",
      "       'Curricular units 1st sem (enrolled)',\n",
      "       'Curricular units 1st sem (evaluations)',\n",
      "       'Curricular units 1st sem (approved)',\n",
      "       'Curricular units 1st sem (grade)',\n",
      "       'Curricular units 2nd sem (enrolled)',\n",
      "       'Curricular units 2nd sem (evaluations)',\n",
      "       'Curricular units 2nd sem (approved)',\n",
      "       'Curricular units 2nd sem (grade)', 'Unemployment rate',\n",
      "       'Inflation rate', 'GDP'],\n",
      "      dtype='object')\n"
     ]
    }
   ],
   "source": [
    "# Initialize the Random Forest model\n",
    "rf_model = RandomForestClassifier(random_state=42)\n",
    "\n",
    "# Create the RFE object with the Random Forest model as the estimator\n",
    "rfe = RFE(estimator=rf_model, n_features_to_select=25)  \n",
    "\n",
    "# Fit RFE\n",
    "rfe.fit(X_train, y_train)\n",
    "\n",
    "# Get selected features\n",
    "selected_features = X_train.columns[rfe.support_]\n",
    "\n",
    "print(\"Selected Features:\", selected_features)\n"
   ]
  },
  {
   "cell_type": "code",
   "execution_count": 17,
   "id": "015379cb-8413-499a-bda7-b51cfd2c77c9",
   "metadata": {},
   "outputs": [
    {
     "name": "stdout",
     "output_type": "stream",
     "text": [
      "Random Forest Test Accuracy with RFE: 0.7762711864406779\n",
      "              precision    recall  f1-score   support\n",
      "\n",
      "           0       0.81      0.75      0.78       284\n",
      "           1       0.59      0.40      0.48       159\n",
      "           2       0.80      0.93      0.86       442\n",
      "\n",
      "    accuracy                           0.78       885\n",
      "   macro avg       0.73      0.69      0.70       885\n",
      "weighted avg       0.76      0.78      0.76       885\n",
      "\n"
     ]
    }
   ],
   "source": [
    "# Train model with selected features\n",
    "rf_model.fit(X_train[selected_features], y_train)\n",
    "\n",
    "# Predict with test set\n",
    "y_pred_rfe = rf_model.predict(X_test[selected_features])\n",
    "\n",
    "# Evaluate the model\n",
    "print(\"Random Forest Test Accuracy with RFE:\", accuracy_score(y_test, y_pred_rfe))\n",
    "print(classification_report(y_test, y_pred_rfe))"
   ]
  },
  {
   "cell_type": "code",
   "execution_count": 19,
   "id": "a5aca73a-4792-4e42-8335-60134d83f8f2",
   "metadata": {},
   "outputs": [
    {
     "data": {
      "image/png": "[encoded data removed]",
      "text/plain": [
       "<Figure size 1000x600 with 1 Axes>"
      ]
     },
     "metadata": {},
     "output_type": "display_data"
    }
   ],
   "source": [
    "# Create learning curves for Random Forest\n",
    "train_sizes, train_scores, test_scores = learning_curve(rf_model, X_train[selected_features], y_train, cv=5, scoring='accuracy')\n",
    "\n",
    "# Calculate mean and standard deviation of training and test scores\n",
    "train_scores_mean = np.mean(train_scores, axis=1)\n",
    "test_scores_mean = np.mean(test_scores, axis=1)\n",
    "\n",
    "# Plot learning curves\n",
    "plt.figure(figsize=(10, 6))\n",
    "plt.plot(train_sizes, train_scores_mean, label='Training score', color='blue')\n",
    "plt.plot(train_sizes, test_scores_mean, label='Validation score', color='orange')\n",
    "plt.title('Learning Curves (Random Forest with RFE)')\n",
    "plt.xlabel('Training examples')\n",
    "plt.ylabel('Accuracy')\n",
    "plt.legend()\n",
    "plt.grid()\n",
    "plt.show()"
   ]
  },
  {
   "cell_type": "markdown",
   "id": "b729b5b2-b34b-451c-b8a2-03188a0266f5",
   "metadata": {},
   "source": [
    "Random Forest model shows perfect accuracy on the training data, its performance on the validation set indicates potential overfitting and slight improvement in generalization after features selection was done."
   ]
  },
  {
   "cell_type": "code",
   "execution_count": 20,
   "id": "3b936efa-446b-480c-91c1-25c95d0dfa1f",
   "metadata": {},
   "outputs": [
    {
     "name": "stdout",
     "output_type": "stream",
     "text": [
      "Selected Features: Index(['Course', 'Previous qualification (grade)', 'Mother_occupation',\n",
      "       'Father_occupation', 'Admission grade', 'Tuition fees up to date',\n",
      "       'Age at enrollment', 'Curricular units 1st sem (evaluations)',\n",
      "       'Curricular units 1st sem (approved)',\n",
      "       'Curricular units 1st sem (grade)',\n",
      "       'Curricular units 2nd sem (enrolled)',\n",
      "       'Curricular units 2nd sem (evaluations)',\n",
      "       'Curricular units 2nd sem (approved)',\n",
      "       'Curricular units 2nd sem (grade)', 'GDP'],\n",
      "      dtype='object')\n"
     ]
    }
   ],
   "source": [
    "# Initialize the Random Forest model\n",
    "rf_model = RandomForestClassifier(random_state=42)\n",
    "\n",
    "# Create the RFE object with the Random Forest model as the estimator\n",
    "rfe = RFE(estimator=rf_model, n_features_to_select=15)  \n",
    "\n",
    "# Fit RFE\n",
    "rfe.fit(X_train, y_train)\n",
    "\n",
    "# Get selected features\n",
    "selected_features = X_train.columns[rfe.support_]\n",
    "\n",
    "print(\"Selected Features:\", selected_features)\n"
   ]
  },
  {
   "cell_type": "code",
   "execution_count": 21,
   "id": "02e0ebf0-3a3b-43b1-9405-3c657ce8e715",
   "metadata": {
    "scrolled": true
   },
   "outputs": [
    {
     "name": "stdout",
     "output_type": "stream",
     "text": [
      "Random Forest Test Accuracy with RFE: 0.7638418079096045\n",
      "              precision    recall  f1-score   support\n",
      "\n",
      "           0       0.79      0.73      0.76       284\n",
      "           1       0.54      0.36      0.43       159\n",
      "           2       0.79      0.93      0.86       442\n",
      "\n",
      "    accuracy                           0.76       885\n",
      "   macro avg       0.71      0.67      0.68       885\n",
      "weighted avg       0.75      0.76      0.75       885\n",
      "\n"
     ]
    }
   ],
   "source": [
    "# Train model with selected features\n",
    "rf_model.fit(X_train[selected_features], y_train)\n",
    "\n",
    "# Predict with test set\n",
    "y_pred_rfe = rf_model.predict(X_test[selected_features])\n",
    "\n",
    "# Evaluate the model\n",
    "print(\"Random Forest Test Accuracy with RFE:\", accuracy_score(y_test, y_pred_rfe))\n",
    "print(classification_report(y_test, y_pred_rfe))"
   ]
  },
  {
   "cell_type": "code",
   "execution_count": null,
   "id": "abf300ad-6fdb-4cca-b62f-49a889102c18",
   "metadata": {},
   "outputs": [],
   "source": []
  }
 ],
 "metadata": {
  "kernelspec": {
   "display_name": "Python 3 (ipykernel)",
   "language": "python",
   "name": "python3"
  },
  "language_info": {
   "codemirror_mode": {
    "name": "ipython",
    "version": 3
   },
   "file_extension": ".py",
   "mimetype": "text/x-python",
   "name": "python",
   "nbconvert_exporter": "python",
   "pygments_lexer": "ipython3",
   "version": "3.12.5"
  }
 },
 "nbformat": 4,
 "nbformat_minor": 5
}
